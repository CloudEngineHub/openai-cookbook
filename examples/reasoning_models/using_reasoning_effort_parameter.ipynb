{
 "cells": [
  {
   "cell_type": "markdown",
   "id": "446a6db5",
   "metadata": {},
   "source": [
    "## Choosing the right Reasoning model and Reasoning effort for your use case \n",
    "\n",
    "Reasoning models, such as OpenAI’s o1 and o3-mini, are advanced language models trained with reinforcement learning to enhance complex reasoning. They generate a detailed internal thought process before responding, making them highly effective in problem-solving, coding, scientific reasoning, and multi-step planning for agentic workflows.\n",
    "\n",
    "In this Cookbook, we will explore an Eval based quantiative analysis to help you choose the right reasoning model and reasoning effort for your use case. \n",
    "\n",
    "This is a 3 step process: \n",
    "\n",
    "1. Build Your Evaluation Dataset\n",
    "2. Build a Pipeline to evaluate the reasoning model and capture metrics \n",
    "3. Choose the model/parameter based on cost/performance trade-off "
   ]
  },
  {
   "cell_type": "markdown",
   "id": "8474d01e",
   "metadata": {},
   "source": [
    "### Step 1: Build Your Evaluation Dataset \n",
    "\n",
    "For this example, we will use the AI2-ARC dataset\n",
    "\n",
    "ARC-Challenge\n",
    "id: a string feature.\n",
    "question: a string feature.\n",
    "choices: a dictionary feature containing:\n",
    "text: a string feature.\n",
    "label: a string feature.\n",
    "answerKey: a string feature."
   ]
  },
  {
   "cell_type": "code",
   "execution_count": 2,
   "id": "4b3867fc",
   "metadata": {
    "ExecuteTime": {
     "end_time": "2025-02-18T19:26:42.747271Z",
     "start_time": "2025-02-18T19:26:41.922248Z"
    }
   },
   "outputs": [],
   "source": [
    "import requests\n",
    "\n",
    "url = \"https://huggingface.co/datasets/allenai/ai2_arc/resolve/main/ARC-Challenge/test-00000-of-00001.parquet\"\n",
    "response = requests.get(url)\n",
    "with open(\"test-00000-of-00001.parquet\", \"wb\") as f:\n",
    "    f.write(response.content)"
   ]
  },
  {
   "cell_type": "code",
   "execution_count": null,
   "id": "f0ad995b",
   "metadata": {
    "ExecuteTime": {
     "end_time": "2025-02-18T19:27:16.355444Z",
     "start_time": "2025-02-18T19:27:14.966383Z"
    }
   },
   "outputs": [
    {
     "name": "stdout",
     "output_type": "stream",
     "text": [
      "Requirement already satisfied: pandas in /Users/shikhar/.virtualenvs/openai/lib/python3.11/site-packages (2.1.4)\n",
      "Requirement already satisfied: pyarrow in /Users/shikhar/.virtualenvs/openai/lib/python3.11/site-packages (19.0.1)\n",
      "Requirement already satisfied: numpy<2,>=1.23.2 in /Users/shikhar/.virtualenvs/openai/lib/python3.11/site-packages (from pandas) (1.26.4)\n",
      "Requirement already satisfied: python-dateutil>=2.8.2 in /Users/shikhar/.virtualenvs/openai/lib/python3.11/site-packages (from pandas) (2.8.2)\n",
      "Requirement already satisfied: pytz>=2020.1 in /Users/shikhar/.virtualenvs/openai/lib/python3.11/site-packages (from pandas) (2024.1)\n",
      "Requirement already satisfied: tzdata>=2022.1 in /Users/shikhar/.virtualenvs/openai/lib/python3.11/site-packages (from pandas) (2024.1)\n",
      "Requirement already satisfied: six>=1.5 in /Users/shikhar/.virtualenvs/openai/lib/python3.11/site-packages (from python-dateutil>=2.8.2->pandas) (1.16.0)\n",
      "\n",
      "\u001b[1m[\u001b[0m\u001b[34;49mnotice\u001b[0m\u001b[1;39;49m]\u001b[0m\u001b[39;49m A new release of pip is available: \u001b[0m\u001b[31;49m24.3.1\u001b[0m\u001b[39;49m -> \u001b[0m\u001b[32;49m25.0.1\u001b[0m\n",
      "\u001b[1m[\u001b[0m\u001b[34;49mnotice\u001b[0m\u001b[1;39;49m]\u001b[0m\u001b[39;49m To update, run: \u001b[0m\u001b[32;49mpip install --upgrade pip\u001b[0m\n",
      "Note: you may need to restart the kernel to use updated packages.\n",
      "{\n",
      "    \"id\": \"Mercury_7175875\",\n",
      "    \"question\": \"An astronomer observes that a planet rotates faster after a meteorite impact. Which is the most likely effect of this increase in rotation?\",\n",
      "    \"choices\": {\n",
      "        \"text\": [\n",
      "            \"Planetary density will decrease.\",\n",
      "            \"Planetary years will become longer.\",\n",
      "            \"Planetary days will become shorter.\",\n",
      "            \"Planetary gravity will become stronger.\"\n",
      "        ],\n",
      "        \"label\": [\n",
      "            \"A\",\n",
      "            \"B\",\n",
      "            \"C\",\n",
      "            \"D\"\n",
      "        ]\n",
      "    },\n",
      "    \"answerKey\": \"C\"\n",
      "}\n"
     ]
    }
   ],
   "source": [
    "import json\n",
    "import pandas as pd\n",
    "\n",
    "# Make sure to install the following packages:\n",
    "# %pip install pandas pyarrow\n",
    "\n",
    "# Set Pandas options to display full text in cells\n",
    "pd.set_option('display.max_colwidth', None)\n",
    "\n",
    "# Reads the Parquet file into a DataFrame.\n",
    "df = pd.read_parquet(\"test-00000-of-00001.parquet\")\n",
    "\n",
    "# Convert the first row to a dictionary.\n",
    "row_dict = df.head(1).iloc[0].to_dict()\n",
    "\n",
    "# Pretty-print the row as a JSON string with an indentation of 4 spaces.\n",
    "# The default lambda converts non-serializable objects (like numpy arrays) to lists.\n",
    "print(json.dumps(row_dict, indent=4, default=lambda o: o.tolist() if hasattr(o, 'tolist') else o))"
   ]
  },
  {
   "cell_type": "code",
   "execution_count": 4,
   "id": "116e476a",
   "metadata": {
    "ExecuteTime": {
     "end_time": "2025-02-18T21:06:16.741618Z",
     "start_time": "2025-02-18T21:06:16.738972Z"
    }
   },
   "outputs": [
    {
     "name": "stdout",
     "output_type": "stream",
     "text": [
      "Total number of rows in the dataset: 1172\n"
     ]
    }
   ],
   "source": [
    "total_rows = len(df)\n",
    "print(f\"Total number of rows in the dataset: {total_rows}\")\n",
    "\n",
    "# Display the total number of rows in the dataset\n"
   ]
  },
  {
   "cell_type": "markdown",
   "id": "380c8c4e",
   "metadata": {},
   "source": [
    "### Step 2: Build a Pipeline to evaluate the reasoning model and capture metrics \n",
    "\n",
    "Let's write a python script to evaluate the reasoning model and capture metrics. \n"
   ]
  },
  {
   "cell_type": "code",
   "execution_count": 5,
   "id": "7a9b4bc6",
   "metadata": {
    "ExecuteTime": {
     "end_time": "2025-02-18T21:05:45.011344Z",
     "start_time": "2025-02-18T21:05:44.986800Z"
    }
   },
   "outputs": [],
   "source": [
    "import time \n",
    "import openai\n",
    "from openai import OpenAI\n",
    "\n",
    "# Initialize the OpenAI client\n",
    "client = OpenAI()\n",
    "\n",
    "\n",
    "def response_with_reasoning_effort(model: str, question: str, reasoning_effort: str):\n",
    "    \"\"\"\n",
    "    Send a question to the OpenAI model with a given reasoning effort level.\n",
    "\n",
    "    Parameters:\n",
    "        model (str): The name of the model.\n",
    "        question (str): The input prompt.\n",
    "        reasoning_effort (str): The reasoning effort level (\"low\", \"medium\", or \"high\").\n",
    "\n",
    "    Returns:\n",
    "        answer (str): The model's answer.\n",
    "        usage: The usage object containing token counts.\n",
    "        duration (float): Time taken for the API call.\n",
    "    \"\"\"\n",
    "\n",
    "    start_time = time.time()\n",
    "\n",
    "    # API Call\n",
    "    response = client.chat.completions.create(\n",
    "        model=model,\n",
    "        reasoning_effort=reasoning_effort,\n",
    "        messages=[\n",
    "            {\"role\": \"system\", \"content\": \"You are a helpful assistant that provides answe to multiple choice questions. Reply only with the letter of the correct answer choice.\"},\n",
    "            {\"role\": \"user\", \"content\": question}\n",
    "        ]\n",
    "    )\n",
    "\n",
    "    end_time = time.time()\n",
    "\n",
    "    # Extract answer from response.\n",
    "    answer = response.choices[0].message.content.strip()\n",
    "    usage = response.usage  # Contains prompt_tokens, total_tokens, and (optionally) reasoning_tokens.\n",
    "\n",
    "    return answer, usage, (end_time - start_time)\n"
   ]
  },
  {
   "cell_type": "code",
   "execution_count": 30,
   "id": "d941b1e7",
   "metadata": {},
   "outputs": [
    {
     "data": {
      "text/plain": [
       "id           938\n",
       "question     938\n",
       "choices      938\n",
       "answerKey    938\n",
       "dtype: int64"
      ]
     },
     "execution_count": 30,
     "metadata": {},
     "output_type": "execute_result"
    }
   ],
   "source": []
  },
  {
   "cell_type": "markdown",
   "id": "ca5ff73d",
   "metadata": {},
   "source": [
    "Run the pipeline for all the questions in the dataset. "
   ]
  },
  {
   "cell_type": "code",
   "execution_count": 31,
   "id": "9589221b",
   "metadata": {
    "ExecuteTime": {
     "end_time": "2025-02-18T21:08:01.153791Z",
     "start_time": "2025-02-18T21:07:12.163330Z"
    }
   },
   "outputs": [
    {
     "name": "stderr",
     "output_type": "stream",
     "text": [
      "Processing Questions: 100%|██████████| 2814/2814 [26:48<00:00,  1.75it/s] \n"
     ]
    }
   ],
   "source": [
    "import time\n",
    "import random\n",
    "import re\n",
    "import concurrent.futures\n",
    "from tqdm import tqdm\n",
    "\n",
    "models = [\"o3-mini\"]\n",
    "\n",
    "results = []  # to accumulate results for each question, model, and reasoning level\n",
    "\n",
    "# Sample 30% of the data for testing purposes\n",
    "df_sample = df.sample(frac=0.8, random_state=42)\n",
    "df_sample.count()\n",
    "\n",
    "def process_question(row, model, reasoning_effort):\n",
    "    try:\n",
    "        q_text = str(row.question) + \"\\n\" + \"choices: \" + str(row.choices)\n",
    "        expected = row.answerKey\n",
    "\n",
    "        answer, usage, duration = response_with_reasoning_effort(model, q_text, reasoning_effort)\n",
    "\n",
    "        # Use regex to extract a single alphabet letter from the answer\n",
    "        match = re.search(r'\\b([A-Za-z])\\b', answer)\n",
    "        if match:\n",
    "            extracted_answer = match.group(1).upper()\n",
    "        else:\n",
    "            extracted_answer = answer.strip().upper()\n",
    "\n",
    "        expected_answer = str(expected).strip().upper()\n",
    "        correct = extracted_answer == expected_answer\n",
    "\n",
    "        result = {\n",
    "            \"id\": row.id,\n",
    "            \"model\": model,\n",
    "            \"level\": reasoning_effort,\n",
    "            \"model_answer\": extracted_answer,\n",
    "            \"correct\": correct,\n",
    "            \"prompt_tokens\": usage.prompt_tokens,\n",
    "            \"total_tokens\": usage.total_tokens,\n",
    "            \"reasoning_tokens\": usage.completion_tokens_details.reasoning_tokens,\n",
    "            \"duration\": duration\n",
    "        }\n",
    "\n",
    "        # Add random time delay between 0.01 to 0.05 seconds\n",
    "        time.sleep(random.uniform(0.01, 0.05))\n",
    "        return result\n",
    "    except TypeError as e:\n",
    "        print(f\"Error processing question: {row.id} with model {model} at reasoning level {reasoning_effort}: {e}\")\n",
    "        return None\n",
    "\n",
    "# Use ThreadPoolExecutor to run API calls concurrently\n",
    "with concurrent.futures.ThreadPoolExecutor(max_workers=10) as executor:\n",
    "    futures = []\n",
    "    for _, row in df_sample.iterrows():\n",
    "        for model in models:\n",
    "            for reasoning_effort in [\"low\", \"medium\", \"high\"]:\n",
    "                futures.append(executor.submit(process_question, row, model, reasoning_effort))\n",
    "    \n",
    "    for future in tqdm(concurrent.futures.as_completed(futures), total=len(futures), desc=\"Processing Questions\"):\n",
    "        res = future.result()\n",
    "        if res is not None:\n",
    "            results.append(res)\n",
    "\n",
    "# Convert results to DataFrame for further analysis\n",
    "df_results = pd.DataFrame(results)"
   ]
  },
  {
   "cell_type": "code",
   "execution_count": 32,
   "id": "45d88cc5",
   "metadata": {
    "ExecuteTime": {
     "end_time": "2025-02-18T20:53:50.417889Z",
     "start_time": "2025-02-18T20:53:50.405599Z"
    }
   },
   "outputs": [
    {
     "data": {
      "text/html": [
       "<div>\n",
       "<style scoped>\n",
       "    .dataframe tbody tr th:only-of-type {\n",
       "        vertical-align: middle;\n",
       "    }\n",
       "\n",
       "    .dataframe tbody tr th {\n",
       "        vertical-align: top;\n",
       "    }\n",
       "\n",
       "    .dataframe thead th {\n",
       "        text-align: right;\n",
       "    }\n",
       "</style>\n",
       "<table border=\"1\" class=\"dataframe\">\n",
       "  <thead>\n",
       "    <tr style=\"text-align: right;\">\n",
       "      <th></th>\n",
       "      <th>id</th>\n",
       "      <th>model</th>\n",
       "      <th>level</th>\n",
       "      <th>model_answer</th>\n",
       "      <th>correct</th>\n",
       "      <th>prompt_tokens</th>\n",
       "      <th>total_tokens</th>\n",
       "      <th>reasoning_tokens</th>\n",
       "      <th>duration</th>\n",
       "    </tr>\n",
       "  </thead>\n",
       "  <tbody>\n",
       "    <tr>\n",
       "      <th>0</th>\n",
       "      <td>Mercury_177870</td>\n",
       "      <td>o3-mini</td>\n",
       "      <td>low</td>\n",
       "      <td>C</td>\n",
       "      <td>True</td>\n",
       "      <td>129</td>\n",
       "      <td>141</td>\n",
       "      <td>0</td>\n",
       "      <td>1.895540</td>\n",
       "    </tr>\n",
       "    <tr>\n",
       "      <th>1</th>\n",
       "      <td>Mercury_177870</td>\n",
       "      <td>o3-mini</td>\n",
       "      <td>medium</td>\n",
       "      <td>C</td>\n",
       "      <td>True</td>\n",
       "      <td>129</td>\n",
       "      <td>141</td>\n",
       "      <td>0</td>\n",
       "      <td>2.160843</td>\n",
       "    </tr>\n",
       "    <tr>\n",
       "      <th>2</th>\n",
       "      <td>MDSA_2011_5_23</td>\n",
       "      <td>o3-mini</td>\n",
       "      <td>low</td>\n",
       "      <td>D</td>\n",
       "      <td>True</td>\n",
       "      <td>138</td>\n",
       "      <td>150</td>\n",
       "      <td>0</td>\n",
       "      <td>2.608335</td>\n",
       "    </tr>\n",
       "    <tr>\n",
       "      <th>3</th>\n",
       "      <td>MDSA_2011_5_23</td>\n",
       "      <td>o3-mini</td>\n",
       "      <td>medium</td>\n",
       "      <td>D</td>\n",
       "      <td>True</td>\n",
       "      <td>138</td>\n",
       "      <td>149</td>\n",
       "      <td>0</td>\n",
       "      <td>2.653007</td>\n",
       "    </tr>\n",
       "    <tr>\n",
       "      <th>4</th>\n",
       "      <td>Mercury_SC_413439</td>\n",
       "      <td>o3-mini</td>\n",
       "      <td>low</td>\n",
       "      <td>A</td>\n",
       "      <td>True</td>\n",
       "      <td>120</td>\n",
       "      <td>131</td>\n",
       "      <td>0</td>\n",
       "      <td>2.916875</td>\n",
       "    </tr>\n",
       "    <tr>\n",
       "      <th>...</th>\n",
       "      <td>...</td>\n",
       "      <td>...</td>\n",
       "      <td>...</td>\n",
       "      <td>...</td>\n",
       "      <td>...</td>\n",
       "      <td>...</td>\n",
       "      <td>...</td>\n",
       "      <td>...</td>\n",
       "      <td>...</td>\n",
       "    </tr>\n",
       "    <tr>\n",
       "      <th>2809</th>\n",
       "      <td>Mercury_7168805</td>\n",
       "      <td>o3-mini</td>\n",
       "      <td>high</td>\n",
       "      <td>B</td>\n",
       "      <td>True</td>\n",
       "      <td>162</td>\n",
       "      <td>494</td>\n",
       "      <td>320</td>\n",
       "      <td>5.438061</td>\n",
       "    </tr>\n",
       "    <tr>\n",
       "      <th>2810</th>\n",
       "      <td>NYSEDREGENTS_2010_4_30</td>\n",
       "      <td>o3-mini</td>\n",
       "      <td>high</td>\n",
       "      <td>B</td>\n",
       "      <td>True</td>\n",
       "      <td>169</td>\n",
       "      <td>436</td>\n",
       "      <td>256</td>\n",
       "      <td>10.122498</td>\n",
       "    </tr>\n",
       "    <tr>\n",
       "      <th>2811</th>\n",
       "      <td>Mercury_7168805</td>\n",
       "      <td>o3-mini</td>\n",
       "      <td>medium</td>\n",
       "      <td>B</td>\n",
       "      <td>True</td>\n",
       "      <td>162</td>\n",
       "      <td>302</td>\n",
       "      <td>128</td>\n",
       "      <td>9.560492</td>\n",
       "    </tr>\n",
       "    <tr>\n",
       "      <th>2812</th>\n",
       "      <td>ACTAAP_2014_5_8</td>\n",
       "      <td>o3-mini</td>\n",
       "      <td>high</td>\n",
       "      <td>B</td>\n",
       "      <td>True</td>\n",
       "      <td>147</td>\n",
       "      <td>1311</td>\n",
       "      <td>1152</td>\n",
       "      <td>8.942129</td>\n",
       "    </tr>\n",
       "    <tr>\n",
       "      <th>2813</th>\n",
       "      <td>Mercury_7172270</td>\n",
       "      <td>o3-mini</td>\n",
       "      <td>high</td>\n",
       "      <td>A</td>\n",
       "      <td>True</td>\n",
       "      <td>152</td>\n",
       "      <td>228</td>\n",
       "      <td>64</td>\n",
       "      <td>602.821878</td>\n",
       "    </tr>\n",
       "  </tbody>\n",
       "</table>\n",
       "<p>2814 rows × 9 columns</p>\n",
       "</div>"
      ],
      "text/plain": [
       "                          id    model   level model_answer  correct  \\\n",
       "0             Mercury_177870  o3-mini     low            C     True   \n",
       "1             Mercury_177870  o3-mini  medium            C     True   \n",
       "2             MDSA_2011_5_23  o3-mini     low            D     True   \n",
       "3             MDSA_2011_5_23  o3-mini  medium            D     True   \n",
       "4          Mercury_SC_413439  o3-mini     low            A     True   \n",
       "...                      ...      ...     ...          ...      ...   \n",
       "2809         Mercury_7168805  o3-mini    high            B     True   \n",
       "2810  NYSEDREGENTS_2010_4_30  o3-mini    high            B     True   \n",
       "2811         Mercury_7168805  o3-mini  medium            B     True   \n",
       "2812         ACTAAP_2014_5_8  o3-mini    high            B     True   \n",
       "2813         Mercury_7172270  o3-mini    high            A     True   \n",
       "\n",
       "      prompt_tokens  total_tokens  reasoning_tokens    duration  \n",
       "0               129           141                 0    1.895540  \n",
       "1               129           141                 0    2.160843  \n",
       "2               138           150                 0    2.608335  \n",
       "3               138           149                 0    2.653007  \n",
       "4               120           131                 0    2.916875  \n",
       "...             ...           ...               ...         ...  \n",
       "2809            162           494               320    5.438061  \n",
       "2810            169           436               256   10.122498  \n",
       "2811            162           302               128    9.560492  \n",
       "2812            147          1311              1152    8.942129  \n",
       "2813            152           228                64  602.821878  \n",
       "\n",
       "[2814 rows x 9 columns]"
      ]
     },
     "execution_count": 32,
     "metadata": {},
     "output_type": "execute_result"
    }
   ],
   "source": [
    "df_results\n"
   ]
  },
  {
   "cell_type": "markdown",
   "id": "206f55d1",
   "metadata": {},
   "source": [
    "### Step 3: Choose the model/parameter based on cost/performance trade-off\n",
    "\n",
    "Let's plot a graph between accuracy and latency for each model/reasoning effort pair."
   ]
  },
  {
   "cell_type": "code",
   "execution_count": 48,
   "id": "1eb832ca",
   "metadata": {},
   "outputs": [
    {
     "data": {
      "text/html": [
       "<div>\n",
       "<style scoped>\n",
       "    .dataframe tbody tr th:only-of-type {\n",
       "        vertical-align: middle;\n",
       "    }\n",
       "\n",
       "    .dataframe tbody tr th {\n",
       "        vertical-align: top;\n",
       "    }\n",
       "\n",
       "    .dataframe thead th {\n",
       "        text-align: right;\n",
       "    }\n",
       "</style>\n",
       "<table border=\"1\" class=\"dataframe\">\n",
       "  <thead>\n",
       "    <tr style=\"text-align: right;\">\n",
       "      <th></th>\n",
       "      <th>model</th>\n",
       "      <th>level</th>\n",
       "      <th>accuracy</th>\n",
       "      <th>duration</th>\n",
       "      <th>reasoning_tokens</th>\n",
       "      <th>total_tokens</th>\n",
       "    </tr>\n",
       "  </thead>\n",
       "  <tbody>\n",
       "    <tr>\n",
       "      <th>0</th>\n",
       "      <td>o3-mini</td>\n",
       "      <td>high</td>\n",
       "      <td>0.956290</td>\n",
       "      <td>6.302782</td>\n",
       "      <td>352.272921</td>\n",
       "      <td>488.555437</td>\n",
       "    </tr>\n",
       "    <tr>\n",
       "      <th>1</th>\n",
       "      <td>o3-mini</td>\n",
       "      <td>low</td>\n",
       "      <td>0.956290</td>\n",
       "      <td>2.261437</td>\n",
       "      <td>24.631130</td>\n",
       "      <td>160.679104</td>\n",
       "    </tr>\n",
       "    <tr>\n",
       "      <th>2</th>\n",
       "      <td>o3-mini</td>\n",
       "      <td>medium</td>\n",
       "      <td>0.959488</td>\n",
       "      <td>3.246041</td>\n",
       "      <td>105.756930</td>\n",
       "      <td>241.832623</td>\n",
       "    </tr>\n",
       "  </tbody>\n",
       "</table>\n",
       "</div>"
      ],
      "text/plain": [
       "     model   level  accuracy  duration  reasoning_tokens  total_tokens\n",
       "0  o3-mini    high  0.956290  6.302782        352.272921    488.555437\n",
       "1  o3-mini     low  0.956290  2.261437         24.631130    160.679104\n",
       "2  o3-mini  medium  0.959488  3.246041        105.756930    241.832623"
      ]
     },
     "execution_count": 48,
     "metadata": {},
     "output_type": "execute_result"
    }
   ],
   "source": [
    "# calculcate the average accuracy and latency for each model/reasoning effort pair\n",
    "import numpy as np\n",
    "import pandas as pd\n",
    "\n",
    "df_results_grouped = df_results.groupby(['model', 'level']).agg({'accuracy': 'mean', 'duration': 'mean', 'reasoning_tokens': 'mean', 'total_tokens': 'mean'}).reset_index()\n",
    "df_results_grouped\n"
   ]
  },
  {
   "cell_type": "code",
   "execution_count": 59,
   "id": "6d419bd3",
   "metadata": {},
   "outputs": [
    {
     "data": {
      "image/png": "[encoded data removed]",
      "text/plain": [
       "<Figure size 1000x600 with 1 Axes>"
      ]
     },
     "metadata": {},
     "output_type": "display_data"
    }
   ],
   "source": [
    "# scatter plot of reasoning tokens for every data point \n",
    "import matplotlib.pyplot as plt\n",
    "\n",
    "plt.figure(figsize=(10, 6))\n",
    "for i, row in df_results_grouped.iterrows():\n",
    "    plt.scatter(row['reasoning_tokens'], row['accuracy'], label=f'{row[\"model\"]} {row[\"level\"]}')\n",
    "plt.xlabel('Reasoning Tokens')\n",
    "plt.ylabel('Accuracy')\n",
    "plt.title('Accuracy vs Reasoning Tokens')\n",
    "plt.legend()\n",
    "plt.show()"
   ]
  },
  {
   "cell_type": "code",
   "execution_count": 55,
   "id": "b8141aa9",
   "metadata": {},
   "outputs": [
    {
     "data": {
      "text/plain": [
       "Text(0.5, 1.0, 'Latency vs Reasoning Tokens')"
      ]
     },
     "execution_count": 55,
     "metadata": {},
     "output_type": "execute_result"
    },
    {
     "data": {
      "image/png": "[encoded data removed]",
      "text/plain": [
       "<Figure size 640x480 with 1 Axes>"
      ]
     },
     "metadata": {},
     "output_type": "display_data"
    }
   ],
   "source": [
    "# create a cluster plot of latency vs reasoning tokens for each model/reasoning effort pair\n",
    "import seaborn as sns\n",
    "\n",
    "sns.scatterplot(data=df_results_grouped, x='reasoning_tokens', y='duration', hue='model', style='level')\n",
    "plt.xlabel('Reasoning Tokens')\n",
    "plt.ylabel('Latency')\n",
    "plt.title('Latency vs Reasoning Tokens')"
   ]
  },
  {
   "cell_type": "markdown",
   "id": "ad3bcef8afa02971",
   "metadata": {},
   "source": []
  }
 ],
 "metadata": {
  "kernelspec": {
   "display_name": "openai",
   "language": "python",
   "name": "python3"
  },
  "language_info": {
   "codemirror_mode": {
    "name": "ipython",
    "version": 3
   },
   "file_extension": ".py",
   "mimetype": "text/x-python",
   "name": "python",
   "nbconvert_exporter": "python",
   "pygments_lexer": "ipython3",
   "version": "3.11.8"
  }
 },
 "nbformat": 4,
 "nbformat_minor": 5
}
