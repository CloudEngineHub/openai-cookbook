{
 "cells": [
  {
   "cell_type": "markdown",
   "metadata": {},
   "source": [
    "# Introduction\n",
    "\n",
    "Let's say you're an AI lead at a consumer tech company. You have the vision of deploying a single entry point digital voice assistant with the ability to help users with any query, regardless of whether they want to take action on their account, find product information, or receive real-time guidance.\n",
    "\n",
    "However, turning this vision into reality can be extremely difficult - it requires building and testing the capability to handle each individual use case through text first, integrating access to the wide range of tools and systems they require, and somehow orchestrating them into a coherent experience. Then, once you’ve achieved a satisfactory level of quality, you face the daunting task of refactoring the entire workflow for voice interaction.\n",
    "\n",
    "Fortunately for you, three recent releases from OpenAI have made implementing this vision simpler than ever by providing the tools to build and orchestrate modular agentic workflows through voice with minimal configuration:\n",
    "\n",
    "- [**Responses API**](https://platform.openai.com/docs/api-reference/responses) - an agentic API for easy engagement with our frontier models through managed stateful conversations, tracing of responses, and built-in tools for file search, web search, computer use, and more\n",
    "- [**Agents SDK**](https://openai.github.io/openai-agents-python/quickstart/) - a lightweight, customizable open source framework for building and orchestrating workflows across many different agents, enabling your assistant to route inputs to the appropriate agent and to scale to support many use cases\n",
    "- [**Voice agents**](https://openai.github.io/openai-agents-python/voice/quickstart/) - an extension of the Agents SDK to support the use of voice pipelines, enabling your agents to go from being text-base to being able to interpret and produce audio in just a few lines of code\n",
    "\n",
    "This cookbook demonstrates how to build a simple in-app voice assistant for a fictitious consumer application using the tools above. We'll create a **Triage Agent** that greets the user, determines their intent, and routes requests to one of three specialised agents:\n",
    "\n",
    "- **Search Agent** - performs a web search via the built-in tooling of the Responses API to provide real-time information on the user's query\n",
    "- **Knowledge Agent** - utilises the file search tooling of the Responses API to retrieve information from an OpenAI managed vector database\n",
    "- **Account Agent** - uses function calling to provide the ability to trigger custom actions via API\n",
    "\n",
    "Finally, we'll convert this workflow into a live voice assistant using the AgentsSDK's Voice funtionality, capturing microphone input, performing speech‑to‑text, routing through our agents, and responding with text‑to‑speech."
   ]
  },
  {
   "cell_type": "markdown",
   "metadata": {},
   "source": [
    "# Setup\n",
    "\n",
    "To execute this cookbook, you'll need to install the following packages providing access to OpenAI's API, the Agents SDK, and libraries for audio processing. Additionally, you can set your OpenAI API key for use by the agents via the `set_default_openai_key` function."
   ]
  },
  {
   "cell_type": "code",
   "execution_count": null,
   "metadata": {},
   "outputs": [],
   "source": [
    "%pip install openai\n",
    "%pip install openai-agents 'openai-agents[voice]'\n",
    "%pip install numpy\n",
    "%pip install sounddevice\n",
    "%pip install os"
   ]
  },
  {
   "cell_type": "code",
   "execution_count": 3,
   "metadata": {},
   "outputs": [],
   "source": [
    "from agents import Agent, function_tool, WebSearchTool, FileSearchTool, set_default_openai_key\n",
    "from agents.extensions.handoff_prompt import prompt_with_handoff_instructions\n",
    "\n",
    "set_default_openai_key(\"YOUR_API_KEY\")"
   ]
  },
  {
   "cell_type": "markdown",
   "metadata": {},
   "source": [
    "# Defining Agents & Tools\n",
    "\n",
    "Today we're going to be building an assitant for our fictitious consumer application, ACME shop, focussed on initially supporting use cases across three key use cases:\n",
    "\n",
    "- Answering real-time questions to inform purchasing decisions using web search\n",
    "- Providing information on the available options in our product portfolio\n",
    "- Providing account information to enable the user to understand their budget and spending\n",
    "\n",
    "To achieve this, we'll be using the following agentic architecture, but the beauty of the Agents SDK is that it is incredibly easy to extend and add aditional agents to the workflow when you want to add new functionality:\n",
    "\n",
    "![Agent Architecture](../../images/app_assistant_voice_agents_arch.png)\n",
    "\n"
   ]
  },
  {
   "cell_type": "markdown",
   "metadata": {},
   "source": [
    "## Search Agent\n",
    "\n",
    "Our first agent is a simple web search agent that uses the `WebSearchTool` provided by the Responses API to find real-time information on the user's query. We'll be keeping the instruction prompts simple for each of these examples, but we'll iterate later to show how to optimise the response format for your use case."
   ]
  },
  {
   "cell_type": "code",
   "execution_count": 4,
   "metadata": {},
   "outputs": [],
   "source": [
    "# --- Agent: Search Agent ---\n",
    "search_agent = Agent(\n",
    "    name=\"SearchAgent\",\n",
    "    instructions=(\n",
    "        \"You immediately provide an input to the WebSearchTool to find up-to-date information on the user's query.\"\n",
    "    ),\n",
    "    tools=[WebSearchTool()],\n",
    ")"
   ]
  },
  {
   "cell_type": "markdown",
   "metadata": {},
   "source": [
    "*For more information on web search and the Responses API, be sure to check out the [Web Search and States with Responses API](https://cookbook.openai.com/examples/responses_api/responses_example) cookbook*"
   ]
  },
  {
   "cell_type": "markdown",
   "metadata": {},
   "source": [
    "## Knowledge Agent\n",
    "\n",
    "Our second agent needs to be able to answer questions on our product portfolio. To do this, we'll use the `FileSearchTool` to retrieve information from a vector store managed by OpenAI containing our company specific product information. For this, we have two options:\n",
    "\n",
    "1. Use the OpenAI Platform Website - go to [platform.openai.com/storage](https://platform.openai.com/storage) and create a vector store, uploading your documents of choice. Then, take the vector store ID and substitute it into the `FileSearchTool` initialisation below.\n",
    "\n",
    "2. Use the OpenAI API - use the `vector_stores.create` function from the OpenAI Python client to create a vector store and then the `vector_stores.files.create` function to add files to it. Once this is complete you can again use the `FileSearchTool` to search the vector store. Please see the code below for an example of how to do this:"
   ]
  },
  {
   "cell_type": "code",
   "execution_count": null,
   "metadata": {},
   "outputs": [],
   "source": [
    "from openai import OpenAI\n",
    "import os\n",
    "\n",
    "client = OpenAI(api_key='YOUR_API_KEY')\n",
    "\n",
    "def upload_file(file_path: str, vector_store_id: str):\n",
    "    file_name = os.path.basename(file_path)\n",
    "    try:\n",
    "        file_response = client.files.create(file=open(file_path, 'rb'), purpose=\"assistants\")\n",
    "        attach_response = client.vector_stores.files.create(\n",
    "            vector_store_id=vector_store_id,\n",
    "            file_id=file_response.id\n",
    "        )\n",
    "        return {\"file\": file_name, \"status\": \"success\"}\n",
    "    except Exception as e:\n",
    "        print(f\"Error with {file_name}: {str(e)}\")\n",
    "        return {\"file\": file_name, \"status\": \"failed\", \"error\": str(e)}\n",
    "\n",
    "def create_vector_store(store_name: str) -> dict:\n",
    "    try:\n",
    "        vector_store = client.vector_stores.create(name=store_name)\n",
    "        details = {\n",
    "            \"id\": vector_store.id,\n",
    "            \"name\": vector_store.name,\n",
    "            \"created_at\": vector_store.created_at,\n",
    "            \"file_count\": vector_store.file_counts.completed\n",
    "        }\n",
    "        print(\"Vector store created:\", details)\n",
    "        return details\n",
    "    except Exception as e:\n",
    "        print(f\"Error creating vector store: {e}\")\n",
    "        return {}\n",
    "    \n",
    "vector_store_id = create_vector_store(\"ACME Shop Product Knowledge Base\")\n",
    "upload_file(\"your/local/path/to/acme_catalogue.pdf\", vector_store_id[\"id\"])"
   ]
  },
  {
   "cell_type": "markdown",
   "metadata": {},
   "source": [
    "Having implemented your vector store, we can now enable the knowledge agent to use the `FileSearchTool` to search the given store ID."
   ]
  },
  {
   "cell_type": "code",
   "execution_count": 10,
   "metadata": {},
   "outputs": [],
   "source": [
    "# --- Agent: Knowledge Agent ---\n",
    "knowledge_agent = Agent(\n",
    "    name=\"KnowledgeAgent\",\n",
    "    instructions=(\n",
    "        \"You answer user questions on our product portfolio with concise, helpful responses using the FileSearchTool.\"\n",
    "    ),\n",
    "    tools=[FileSearchTool(\n",
    "            max_num_results=3,\n",
    "            vector_store_ids=[\"VECTOR_STORE_ID\"],\n",
    "        ),],\n",
    ")"
   ]
  },
  {
   "cell_type": "markdown",
   "metadata": {},
   "source": [
    "*For more information on the power of file search and the Responses API, be sure to check out the excellent cookbook on the subject where the example code above was taken from: [Doing RAG on PDFs using File Search in the Responses API](https://cookbook.openai.com/examples/file_search_responses)*"
   ]
  },
  {
   "cell_type": "markdown",
   "metadata": {},
   "source": [
    "## Account Agent\n",
    "\n",
    "Whilst so far we've been using the built-in tools provided by the Agents SDK, you can define your own tools to be used by the agents to integrate with your systems with the `function_tool` decorator. Here, we'll define a simple dummy function to return account information for a given user ID for our account agent. "
   ]
  },
  {
   "cell_type": "code",
   "execution_count": 6,
   "metadata": {},
   "outputs": [],
   "source": [
    "# --- Tool 1: Fetch account information (dummy) ---\n",
    "@function_tool\n",
    "def get_account_info(user_id: str) -> dict:\n",
    "    \"\"\"Return dummy account info for a given user.\"\"\"\n",
    "    return {\n",
    "        \"user_id\": user_id,\n",
    "        \"name\": \"Bugs Bunny\",\n",
    "        \"account_balance\": \"£72.50\",\n",
    "        \"membership_status\": \"Gold Executive\"\n",
    "    }\n",
    "\n",
    "# --- Agent: Account Agent ---\n",
    "account_agent = Agent(\n",
    "    name=\"AccountAgent\",\n",
    "    instructions=(\n",
    "        \"You provide account information based on a user ID using the get_account_info tool.\"\n",
    "    ),\n",
    "    tools=[get_account_info],\n",
    ")\n"
   ]
  },
  {
   "cell_type": "markdown",
   "metadata": {},
   "source": [
    "*For more information on function calling with the Agents SDK, see the [Agents SDK Documentation](https://openai.github.io/openai-agents-python/tools/#function-tools)*"
   ]
  },
  {
   "cell_type": "markdown",
   "metadata": {},
   "source": [
    "Finally, we'll define the triage agent that will route the user's query to the appropriate agent based on their intent. Here we're using the `prompt_with_handoff_instructions` function, which provides additional guidance on how to treat handoffs and is recommended to provide to any agent with a defined set of handoffs with a defined set of instructions."
   ]
  },
  {
   "cell_type": "code",
   "execution_count": 7,
   "metadata": {},
   "outputs": [],
   "source": [
    "# --- Agent: Triage Agent ---\n",
    "triage_agent = Agent(\n",
    "    name=\"Assistant\",\n",
    "    instructions=prompt_with_handoff_instructions(\"\"\"\n",
    "You are the virtual assistant for Acme Shop. Welcome the user and ask how you can help.\n",
    "Based on the user's intent, route to:\n",
    "- AccountAgent for account-related queries\n",
    "- KnowledgeAgent for product FAQs\n",
    "- SearchAgent for anything requiring real-time web search\n",
    "\"\"\"),\n",
    "    handoffs=[account_agent, knowledge_agent, search_agent],\n",
    ")"
   ]
  },
  {
   "cell_type": "markdown",
   "metadata": {},
   "source": [
    "# Run the workflow\n",
    "\n",
    "Now that we've defined our agents, we can run the workflow on a few example queries to see how it performs."
   ]
  },
  {
   "cell_type": "code",
   "execution_count": 8,
   "metadata": {},
   "outputs": [
    {
     "name": "stdout",
     "output_type": "stream",
     "text": [
      "User: What's my ACME account balance doc? My user ID is 1234567890\n",
      "Your ACME account balance is £72.50.\n",
      "---\n",
      "User: Ooh i've got money to spend! How big is the input and how fast is the output of the dynamite dispenser?\n",
      "The Automated Dynamite Dispenser has a capacity for 10 sticks and dispenses at a speed of 1 stick every 2 seconds.\n",
      "---\n",
      "User: Hmmm, what about duck hunting gear - what's trending right now?\n",
      "Staying updated with the latest trends in duck hunting gear can significantly enhance your hunting experience. Here are some of the top trending items for 2025:\n",
      "\n",
      "\n",
      "\n",
      "**Banded Aspire Catalyst Wader**  \n",
      "An all-season wader featuring waterproof-breathable technology, minimal-stitch construction for enhanced mobility, and PrimaLoft Aerogel insulation for thermal protection. ([blog.gritroutdoors.com](https://blog.gritroutdoors.com/must-have-duck-hunting-gear-for-a-winning-season/?utm_source=openai))\n",
      "\n",
      "\n",
      "\n",
      "\n",
      "**Sitka Delta Zip Wader**  \n",
      "Known for its reinforced shins and knees with rugged foam pads, this wader offers durability and comfort. Made with GORE-TEX material, it ensures dryness throughout the season. ([blog.gritroutdoors.com](https://blog.gritroutdoors.com/must-have-duck-hunting-gear-for-a-winning-season/?utm_source=openai))\n",
      "\n",
      "\n",
      "\n",
      "\n",
      "**MOmarsh InvisiMan Blind**  \n",
      "A low-profile, one-person blind that's sturdy, durable, and easy to set up. It's designed to keep hunters concealed, even from late-season, wary ducks. ([bornhunting.com](https://bornhunting.com/top-duck-hunting-gear/?utm_source=openai))\n",
      "\n",
      "\n",
      "\n",
      "\n",
      "**Slayer Calls Ranger Duck Call**  \n",
      "A double reed call that produces crisp and loud sounds, effectively attracting distant ducks in harsh weather conditions. ([bornhunting.com](https://bornhunting.com/top-duck-hunting-gear/?utm_source=openai))\n",
      "\n",
      "\n",
      "\n",
      "\n",
      "**B&P Dual Steel Magnum Ammunition**  \n",
      "This steel blend load combines #2 steel stacked atop #3 zinc-plated steel, offering effective performance at long ranges and in high winds. ([bornhunting.com](https://bornhunting.com/top-duck-hunting-gear/?utm_source=openai))\n",
      "\n",
      "\n",
      "Incorporating these trending items into your gear can enhance your effectiveness and comfort during the hunting season. \n",
      "---\n"
     ]
    }
   ],
   "source": [
    "# %%\n",
    "from agents import Runner, trace\n",
    "\n",
    "async def test_queries():\n",
    "    examples = [\n",
    "        \"What's my ACME account balance doc? My user ID is 1234567890\", # Account Agent test\n",
    "        \"Ooh i've got money to spend! How big is the input and how fast is the output of the dynamite dispenser?\", # Knowledge Agent test\n",
    "        \"Hmmm, what about duck hunting gear - what's trending right now?\", # Search Agent test\n",
    "\n",
    "    ]\n",
    "    with trace(\"ACME App Assistant\"):\n",
    "        for query in examples:\n",
    "            result = await Runner.run(triage_agent, query)\n",
    "            print(f\"User: {query}\")\n",
    "            print(result.final_output)\n",
    "            print(\"---\")\n",
    "# Run the tests\n",
    "await test_queries()"
   ]
  },
  {
   "cell_type": "markdown",
   "metadata": {},
   "source": [
    "Above we can see the outputs appear to be in line with our expectations, but one key benefit of the Agents SDK is that it includes built-in tracing which enables tracking of the flow of events during an agent run across the LLM calls, handoffs, and tools. \n",
    "\n",
    "Using the [Traces dashboard](https://platform.openai.com/traces), we can debug, visualize, and monitor our workflows during development and in production. As we can see below, each test query was correctly routed to the appropriate agent."
   ]
  },
  {
   "cell_type": "markdown",
   "metadata": {},
   "source": [
    "![Traces Dashboard](../../images/app_assistant_voice_agents.png)"
   ]
  },
  {
   "cell_type": "markdown",
   "metadata": {},
   "source": [
    "# Enabling Voice\n",
    "\n",
    "Having designed our workflow, here in reality we would spend time evaluating the traces and iterating on the workflow to ensure it is as effective as possible. But let's assume we're happy with the workflow, so we can now start thinking about how to convert our in-app assistant from text-based to voice-based interactions.\n",
    "\n",
    "To do this, we can simply leverage the classes provided by the [Agents SDK](https://openai.github.io/openai-agents-python/voice/quickstart/) to convert our text-based workflow into a a voice-based one. The `VoicePipeline` class provides an interface for transcribing audio input, executing a given agent workflow and generating a text to speech response for playback to the user, whilst the `SingleAgentVoiceWorkflow` class enables us to leverage the same agent workflow we used earlier for our text-based workflow. To provide and receive audio, we'll use the `sounddevice` library. \n",
    "\n",
    "End to end, the new workflow looks like this:\n",
    "\n",
    "![Agent Architecture 2](../../images/app_assistant_voice_agents_arch_2.png)\n"
   ]
  },
  {
   "cell_type": "markdown",
   "metadata": {},
   "source": [
    "And the code to enable this is as follows:"
   ]
  },
  {
   "cell_type": "code",
   "execution_count": 8,
   "metadata": {},
   "outputs": [],
   "source": [
    "# %%\n",
    "import numpy as np\n",
    "import sounddevice as sd\n",
    "from agents.voice import AudioInput, SingleAgentVoiceWorkflow, VoicePipeline\n",
    "\n",
    "async def voice_assistant():\n",
    "    samplerate = sd.query_devices(kind='input')['default_samplerate']\n",
    "\n",
    "    while True:\n",
    "        pipeline = VoicePipeline(workflow=SingleAgentVoiceWorkflow(triage_agent))\n",
    "\n",
    "        input(\"Press Enter and speak your query...\")\n",
    "        print(\"Listening...\")\n",
    "        recorded_chunks = []\n",
    "\n",
    "         # Start streaming from microphone until Enter is pressed\n",
    "        with sd.InputStream(samplerate=samplerate, channels=1, dtype='int16', callback=lambda indata, frames, time, status: recorded_chunks.append(indata.copy())):\n",
    "            input()\n",
    "\n",
    "        # Concatenate chunks into single buffer\n",
    "        recording = np.concatenate(recorded_chunks, axis=0)\n",
    "\n",
    "        # Input the buffer and await the result\n",
    "        audio_input = AudioInput(buffer=recording)\n",
    "        result = await pipeline.run(audio_input)\n",
    "\n",
    "         # Transfer the streamed result into chunks of audio\n",
    "        response_chunks = []\n",
    "        async for event in result.stream():\n",
    "            if event.type == \"voice_stream_event_audio\":\n",
    "                response_chunks.append(event.data)\n",
    "\n",
    "        response_audio = np.concatenate(response_chunks, axis=0)\n",
    "\n",
    "        # Play response\n",
    "        print(\"Assistant is responding...\")\n",
    "        sd.play(response_audio, samplerate=samplerate)\n",
    "        sd.wait()\n",
    "        print(\"---\")\n",
    "\n",
    "# Run the voice assistant\n",
    "await voice_assistant()"
   ]
  },
  {
   "cell_type": "markdown",
   "metadata": {},
   "source": [
    "Executing the above code, gives us the following responses which correctly provide the same functionality as the text-based workflow.\n",
    "\n",
    "<audio controls>\n",
    "  <source src=\"voice_agents_audio/account_balance_response_base.mp3\" type=\"audio/mpeg\">\n",
    "  Your browser does not support the audio element.\n",
    "</audio>\n",
    "\n",
    "<audio controls>\n",
    "  <source src=\"voice_agents_audio/product_info_response_base.mp3\" type=\"audio/mpeg\">\n",
    "  Your browser does not support the audio element.\n",
    "</audio>\n",
    "\n",
    "<audio controls>\n",
    "  <source src=\"voice_agents_audio/trending_items_response_base.mp3\" type=\"audio/mpeg\">\n",
    "  Your browser does not support the audio element.\n",
    "</audio>"
   ]
  },
  {
   "cell_type": "markdown",
   "metadata": {},
   "source": [
    "# Optimizing Voice\n",
    "\n",
    "This is a great start, but we can do better. As we've simply converted our text-based agents into voice-based ones, the responses are not optimised in their output for either tone or format, meaning they feel robotic and unnatural.\n",
    "\n",
    "To address this, we'll need to make a few changes to our prompts.\n",
    "\n",
    "Firstly, we can adapt our existing agents to include a common system prompt, providing instructions on how to optimise their text response for later conversion to the voice format\n",
    "\n",
    "\n"
   ]
  },
  {
   "cell_type": "code",
   "execution_count": 11,
   "metadata": {},
   "outputs": [],
   "source": [
    "# Common system prompt for voice output best practices:\n",
    "voice_system_prompt = \"\"\"\n",
    "[Output Structure]\n",
    "Your output will be delivered in an audio voice response, please ensure that every response meets these guidelines:\n",
    "1. Use a friendly, human tone that will sound natural when spoken aloud.\n",
    "2. Keep responses short and segmented—ideally one to two concise sentences per step.\n",
    "3. Avoid technical jargon; use plain language so that instructions are easy to understand.\n",
    "4. Provide only essential details so as not to overwhelm the listener.\n",
    "\"\"\"\n",
    "\n",
    "# --- Agent: Search Agent ---\n",
    "search_voice_agent = Agent(\n",
    "    name=\"SearchVoiceAgent\",\n",
    "    instructions=voice_system_prompt + (\n",
    "        \"You immediately provide an input to the WebSearchTool to find up-to-date information on the user's query.\"\n",
    "    ),\n",
    "    tools=[WebSearchTool()],\n",
    ")\n",
    "\n",
    "# --- Agent: Knowledge Agent ---\n",
    "knowledge_voice_agent = Agent(\n",
    "    name=\"KnowledgeVoiceAgent\",\n",
    "    instructions=voice_system_prompt + (\n",
    "        \"You answer user questions on our product portfolio with concise, helpful responses using the FileSearchTool.\"\n",
    "    ),\n",
    "    tools=[FileSearchTool(\n",
    "            max_num_results=3,\n",
    "            vector_store_ids=[\"VECTOR_STORE_ID\"],\n",
    "        ),],\n",
    ")\n",
    "\n",
    "# --- Agent: Account Agent ---\n",
    "account_voice_agent = Agent(\n",
    "    name=\"AccountVoiceAgent\",\n",
    "    instructions=voice_system_prompt + (\n",
    "        \"You provide account information based on a user ID using the get_account_info tool.\"\n",
    "    ),\n",
    "    tools=[get_account_info],\n",
    ")\n",
    "\n",
    "# --- Agent: Triage Agent ---\n",
    "triage_voice_agent = Agent(\n",
    "    name=\"VoiceAssistant\",\n",
    "    instructions=prompt_with_handoff_instructions(\"\"\"\n",
    "You are the virtual assistant for Acme Shop. Welcome the user and ask how you can help.\n",
    "Based on the user's intent, route to:\n",
    "- AccountAgent for account-related queries\n",
    "- KnowledgeAgent for product FAQs\n",
    "- SearchAgent for anything requiring real-time web search\n",
    "\"\"\"),\n",
    "    handoffs=[account_voice_agent, knowledge_voice_agent, search_voice_agent],\n",
    ")"
   ]
  },
  {
   "cell_type": "markdown",
   "metadata": {},
   "source": [
    "Next, we can instruct the default OpenAI TTS model used by the Agents SDK, `gpt-4o-mini-tts`, on how to communicate the audio output of the agent generated text with the `instructions` field. \n",
    "\n",
    "Here we have a huge amount of control over the output, including the ability to specify the personality, pronunciation, speed and emotion of the output. \n",
    "\n",
    "Below i've included a few examples on how to prompt the model for different applications."
   ]
  },
  {
   "cell_type": "code",
   "execution_count": null,
   "metadata": {},
   "outputs": [],
   "source": [
    "health_assistant= \"Voice Affect: Calm, composed, and reassuring; project quiet authority and confidence.\"\n",
    "\"Tone: Sincere, empathetic, and gently authoritative—express genuine apology while conveying competence.\"\n",
    "\"Pacing: Steady and moderate; unhurried enough to communicate care, yet efficient enough to demonstrate professionalism.\"\n",
    "\n",
    "coach_assistant=\"Voice: High-energy, upbeat, and encouraging, projecting enthusiasm and motivation.\"\n",
    "\"Punctuation: Short, punchy sentences with strategic pauses to maintain excitement and clarity.\"\n",
    "\"Delivery: Fast-paced and dynamic, with rising intonation to build momentum and keep engagement high.\"\n",
    "\n",
    "themed_character_assistant=\"Affect: Deep, commanding, and slightly dramatic, with an archaic and reverent quality that reflects the grandeur of Olde English storytelling.\"\n",
    "\"Tone: Noble, heroic, and formal, capturing the essence of medieval knights and epic quests, while reflecting the antiquated charm of Olde English.\"    \n",
    "\"Emotion: Excitement, anticipation, and a sense of mystery, combined with the seriousness of fate and duty.\"\n",
    "\"Pronunciation: Clear, deliberate, and with a slightly formal cadence.\"\n",
    "\"Pause: Pauses after important Olde English phrases such as \\\"Lo!\\\" or \\\"Hark!\\\" and between clauses like \\\"Choose thy path\\\" to add weight to the decision-making process and allow the listener to reflect on the seriousness of the quest.\""
   ]
  },
  {
   "cell_type": "markdown",
   "metadata": {},
   "source": [
    "Our configuration is going to focus on creating a friendly, warm, and supportive tone that sounds natural when spoken aloud and guides the user through the conversation."
   ]
  },
  {
   "cell_type": "code",
   "execution_count": null,
   "metadata": {},
   "outputs": [
    {
     "name": "stdout",
     "output_type": "stream",
     "text": [
      "Listening...\n",
      "Assistant is responding...\n",
      "---\n",
      "Listening...\n",
      "Assistant is responding...\n",
      "---\n",
      "Listening...\n",
      "Assistant is responding...\n",
      "---\n",
      "Listening...\n",
      "Assistant is responding...\n"
     ]
    }
   ],
   "source": [
    "from agents.voice import TTSModelSettings, VoicePipeline, VoicePipelineConfig, SingleAgentVoiceWorkflow, AudioInput\n",
    "import sounddevice as sd\n",
    "import numpy as np\n",
    "\n",
    "# Define custom TTS model settings with the desired instructions\n",
    "custom_tts_settings = TTSModelSettings(\n",
    "    instructions=\"Personality: upbeat, friendly, persuasive guide\"\n",
    "    \"Tone: Friendly, clear, and reassuring, creating a calm atmosphere and making the listener feel confident and comfortable.\"\n",
    "    \"Pronunciation: Clear, articulate, and steady, ensuring each instruction is easily understood while maintaining a natural, conversational flow.\"\n",
    "    \"Tempo: Speak relatively fast, include brief pauses and after before questions\"\n",
    "    \"Emotion: Warm and supportive, conveying empathy and care, ensuring the listener feels guided and safe throughout the journey.\"\n",
    ")\n",
    "\n",
    "async def voice_assistant_optimized():\n",
    "    samplerate = sd.query_devices(kind='input')['default_samplerate']\n",
    "    voice_pipeline_config = VoicePipelineConfig(tts_settings=custom_tts_settings)\n",
    "\n",
    "    while True:\n",
    "        pipeline = VoicePipeline(workflow=SingleAgentVoiceWorkflow(triage_voice_agent), config=voice_pipeline_config)\n",
    "\n",
    "        input(\"Press Enter and speak your query...\")\n",
    "        print(\"Listening...\")\n",
    "        recorded_chunks = []\n",
    "\n",
    "         # Start streaming from microphone until Enter is pressed\n",
    "        with sd.InputStream(samplerate=samplerate, channels=1, dtype='int16', callback=lambda indata, frames, time, status: recorded_chunks.append(indata.copy())):\n",
    "            input()\n",
    "\n",
    "        # Concatenate chunks into single buffer\n",
    "        recording = np.concatenate(recorded_chunks, axis=0)\n",
    "\n",
    "        # Input the buffer and await the result\n",
    "        audio_input = AudioInput(buffer=recording)\n",
    "        result = await pipeline.run(audio_input)\n",
    "\n",
    "         # Transfer the streamed result into chunks of audio\n",
    "        response_chunks = []\n",
    "        async for event in result.stream():\n",
    "            if event.type == \"voice_stream_event_audio\":\n",
    "                response_chunks.append(event.data)\n",
    "        response_audio = np.concatenate(response_chunks, axis=0)\n",
    "\n",
    "        # Play response\n",
    "        print(\"Assistant is responding...\")\n",
    "        sd.play(response_audio, samplerate=samplerate)\n",
    "        sd.wait()\n",
    "        print(\"---\")\n",
    "\n",
    "# Run the voice assistant\n",
    "await voice_assistant_optimized()"
   ]
  },
  {
   "cell_type": "markdown",
   "metadata": {},
   "source": [
    "Running the above code gives us the following responses which are much more naturally worded and engaging in the delivery.\n",
    "\n",
    "<audio controls>\n",
    "  <source src=\"voice_agents_audio/account_balance_response_opti.mp3\" type=\"audio/mpeg\">\n",
    "  Your browser does not support the audio element.\n",
    "</audio>\n",
    "\n",
    "<audio controls>\n",
    "  <source src=\"voice_agents_audio/product_info_response_opti.mp3\" type=\"audio/mpeg\">\n",
    "  Your browser does not support the audio element.\n",
    "</audio>\n",
    "\n",
    "<audio controls>\n",
    "  <source src=\"voice_agents_audio/trending_items_response_opti.mp3\" type=\"audio/mpeg\">\n",
    "  Your browser does not support the audio element.\n",
    "</audio>\n",
    "\n",
    "...And for something less subtle, we can switch to the `themed_character_assistant` instructions and receive the following responses:\n",
    "\n",
    "<audio controls>\n",
    "  <source src=\"voice_agents_audio/product_info_character.wav\" type=\"audio/mpeg\">\n",
    "  Your browser does not support the audio element.\n",
    "</audio>\n",
    "\n",
    "<audio controls>\n",
    "  <source src=\"voice_agents_audio/product_info_character_2.wav\"\" type=\"audio/mpeg\">\n",
    "  Your browser does not support the audio element.\n",
    "</audio>\n"
   ]
  },
  {
   "cell_type": "markdown",
   "metadata": {},
   "source": [
    "# Conclusion\n",
    "\n",
    "Voila! \n",
    "\n",
    "In this cookbook, we've demonstrated how to:\n",
    "\n",
    "- Define agents to provide specific use case functionality for our in-app voice assistant\n",
    "- Leverage in-built and custom tools with the Responses API to provide agents with a range of functionality\n",
    "- Orchestrate these agents using the Agents SDK\n",
    "- Convert agents from text-based to voice-based interactions using the Agents SDK's Voice functionality\n",
    "\n",
    "The Agents SDK enables a modular approach to building your voice assistant, allowing you to work on a use case by use case basis, evaluating and iterating on each use case individually, before implementing the next and then converting the workflow from text to voice when you're ready.\n",
    "\n",
    "We hope this cookbook has provided you with a useful guide to help you get started with building your own in-app voice assistant!"
   ]
  }
 ],
 "metadata": {
  "kernelspec": {
   "display_name": "env",
   "language": "python",
   "name": "python3"
  },
  "language_info": {
   "codemirror_mode": {
    "name": "ipython",
    "version": 3
   },
   "file_extension": ".py",
   "mimetype": "text/x-python",
   "name": "python",
   "nbconvert_exporter": "python",
   "pygments_lexer": "ipython3",
   "version": "3.13.0"
  }
 },
 "nbformat": 4,
 "nbformat_minor": 2
}
