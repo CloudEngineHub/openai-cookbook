{
    "cells": [
        {
            "cell_type": "markdown",
            "metadata": {},
            "source": [
                "# Function-calling & prompt budgeting\n",
                "\n",
                "> Under the hood, functions are injected into the **system message** in a\n",
                "> special syntax the model was trained on.  \n",
                "> Because of this, **every function definition counts toward your context\n",
                "> limit** and is **billed as input tokens**.  \n",
                "> When you hit the token ceiling, trim either  \n",
                "> * the **number of functions**, or  \n",
                "> * the **length of each parameter description**.  \n",
                "> If you have *many* functions, consider **fine-tuning** to compress them.\n",
                "\n",
                "[Function-calling docs → “additional configurations”](https://platform.openai.com/docs/guides/function-calling?api-mode=responses#additional-configurations)\n",
                "\n",
                "---\n",
                "\n",
                "### Where to put your few-shot examples?\n",
                "\n",
                "| Location for examples | What gets longer? | Sent **every** request? | Typical use-case |\n",
                "|-----------------------|-------------------|-------------------------|------------------|\n",
                "| **Tool description** | The *function schema* section inside the hidden system prompt | **Yes** – they travel with *every* call that includes the tool | Good when you want the model to see examples **only when that tool is available** (keeps unrelated chats smaller). |\n",
                "| **System prompt** | The *global* system message | **Yes** – they precede every conversation turn, even if the tool isn’t used | Useful when examples provide **general policy** or disambiguation rules that should influence *all* reasoning. |\n",
                "\n",
                "**Key difference:**  \n",
                "Putting examples in the *tool description* keeps your **base system prompt shorter**, but the combined prompt *still* grows because the full function schema (now bigger) is injected on every request that carries `tools=[…]`.  \n",
                "Placing them directly in the *system prompt* makes the top-level prompt larger **once**, yet avoids inflating each individual function schema.\n",
                "\n",
                "So choose the location that minimises total tokens **for your traffic pattern**:\n",
                "\n",
                "```text\n",
                "few calls ⟹ duplicate cost OK ⟹ put examples in tool description\n",
                "many calls ⟹ avoid schema bloat ⟹ centralise in system prompt\n"
            ]
        },
        {
            "cell_type": "markdown",
            "metadata": {},
            "source": [
                "# Imports & Configs"
            ]
        },
        {
            "cell_type": "code",
            "execution_count": 197,
            "metadata": {},
            "outputs": [],
            "source": [
                "import json, os, textwrap\n",
                "from dataclasses import dataclass\n",
                "from pathlib import Path\n",
                "from typing import Dict, List, Tuple, Iterable\n",
                "\n",
                "import dotenv\n",
                "import openai\n",
                "import pandas as pd\n",
                "\n",
                "dotenv.load_dotenv()\n",
                "\n",
                "MODEL = \"gpt-4o\"                 # Or any function‑calling‑capable model\n",
                "TEMPERATURE = 0.0\n",
                "COORD_TOL_DEG = 0.1              # Lat/Lon tolerance when judging correctness"
            ]
        },
        {
            "cell_type": "markdown",
            "metadata": {},
            "source": [
                "## 1 · Prepare Test Data"
            ]
        },
        {
            "cell_type": "code",
            "execution_count": 198,
            "metadata": {},
            "outputs": [
                {
                    "name": "stdout",
                    "output_type": "stream",
                    "text": [
                        "Dataset · Positives: 15, Negatives: 15 (total 30)\n"
                    ]
                }
            ],
            "source": [
                "@dataclass\n",
                "class Example:\n",
                "    user: str\n",
                "    should_call: bool\n",
                "    expected: Dict | None  # {latitude, longitude}\n",
                "\n",
                "    @property\n",
                "    def messages(self) -> List[Dict]:\n",
                "        return [{\"role\": \"user\", \"content\": self.user}]\n",
                "\n",
                "\n",
                "DATASET: List[Example] = [\n",
                "    # ---------- 15 POSITIVES ----------\n",
                "    Example(\"Paris check-in: how hot is it right now?\", True,\n",
                "            {\"latitude\": 48.8566, \"longitude\": 2.3522}),\n",
                "    Example(\"Temp RN in NYC please 🙏\", True,\n",
                "            {\"latitude\": 40.7128, \"longitude\": -74.0060}),\n",
                "    Example(\"Give me today's Celsius for Tōkyō (present moment).\", True,\n",
                "            {\"latitude\": 35.6895, \"longitude\": 139.6917}),\n",
                "    Example(\"Current °C at -33.87, 151.21 ?\", True,\n",
                "            {\"latitude\": -33.87, \"longitude\": 151.21}),             # Sydney as coords\n",
                "    Example(\"What's the thermometer reading downtown São Paulo?\", True,\n",
                "            {\"latitude\": -23.5505, \"longitude\": -46.6333}),\n",
                "    Example(\"How warm is it outside in Cairo right this second?\", True,\n",
                "            {\"latitude\": 30.0444, \"longitude\": 31.2357}),\n",
                "    Example(\"Need real-time temp for Montréal, Québec.\", True,\n",
                "            {\"latitude\": 45.5019, \"longitude\": -73.5674}),\n",
                "    Example(\"Berlin now: degrees?\", True,\n",
                "            {\"latitude\": 52.5200, \"longitude\": 13.4050}),\n",
                "    Example(\"What's the weather like *right now* in Mumbai temperature-wise?\", True,\n",
                "            {\"latitude\": 19.0760, \"longitude\": 72.8777}),\n",
                "    Example(\"Temp please for Capetown currently.\", True,\n",
                "            {\"latitude\": -33.9249, \"longitude\": 18.4241}),\n",
                "    Example(\"Sydney temp update (this minute).\", True,\n",
                "            {\"latitude\": -33.8688, \"longitude\": 151.2093}),\n",
                "    Example(\"Is it chilly in Lima at the moment?\", True,\n",
                "            {\"latitude\": -12.0464, \"longitude\": -77.0428}),\n",
                "    Example(\"Right now, what's Bangkok's temperature?\", True,\n",
                "            {\"latitude\": 13.7563, \"longitude\": 100.5018}),\n",
                "    Example(\"Tell me the °C in Athens this instant.\", True,\n",
                "            {\"latitude\": 37.9838, \"longitude\": 23.7275}),\n",
                "    Example(\"How many degrees outside in Nairobi right now?\", True,\n",
                "            {\"latitude\": -1.286389, \"longitude\": 36.817223}),\n",
                "\n",
                "    # ---------- 15 NEGATIVES ----------\n",
                "    # Fiction / heavy misspellings\n",
                "    Example(\"Weather report for Hogwarts, please.\", False, None),\n",
                "    Example(\"What's the temperature in San Fran-sissco today?\", False, None),\n",
                "    Example(\"Current climate of Narnia?\", False, None),\n",
                "    # Historical / future\n",
                "    Example(\"What was the temperature in Berlin last Tuesday?\", False, None),\n",
                "    Example(\"Will it be hot in Tokyo tomorrow afternoon?\", False, None),\n",
                "    # Wrong metric\n",
                "    Example(\"How humid is it in Paris right now?\", False, None),\n",
                "    Example(\"Wind speed in Chicago at the moment?\", False, None),\n",
                "    # Multiple places / comparisons\n",
                "    Example(\"Compare the current temperature of London and Paris.\", False, None),\n",
                "    Example(\"Is Rome warmer than Madrid right now?\", False, None),\n",
                "    # Region-level / ambiguous\n",
                "    Example(\"Temperature in California now?\", False, None),\n",
                "    Example(\"What's the temp on the East Coast currently?\", False, None),\n",
                "    # Misspelled beyond recognition\n",
                "    Example(\"Temp in Tokyoo tonite?\", False, None),\n",
                "    Example(\"Degrees now in Barzil?\", False, None),\n",
                "    # Duplicate city, different phrasing (sanity check)\n",
                "    Example(\"Give me NYC temperature for *right now* in Fahrenheit.\", False, None),  # different unit → reject\n",
                "    # Coordinate but historical\n",
                "    Example(\"At 48.85, 2.35 – what was the temp yesterday?\", False, None),\n",
                "]\n",
                "\n",
                "print(f\"Dataset · Positives: {sum(e.should_call for e in DATASET)}, Negatives: {sum(not e.should_call for e in DATASET)} (total {len(DATASET)})\")"
            ]
        },
        {
            "cell_type": "markdown",
            "metadata": {},
            "source": [
                "## 2 · Prompts & tool specification"
            ]
        },
        {
            "cell_type": "code",
            "execution_count": 199,
            "metadata": {},
            "outputs": [
                {
                    "name": "stdout",
                    "output_type": "stream",
                    "text": [
                        "Your task is to decide whether to call the\n",
                        "function `get_weather` based on a user's message.\n",
                        "\n",
                        "Follow these rules **exactly**:\n",
                        "\n",
                        "1. **Call `get_weather`** only when the user wants the *current* air\n",
                        "  temperature for a single, real-world location that can be mapped to\n",
                        "  a latitude/longitude.\n",
                        "2. The user may phrase it indirectly, use slang, or give coordinates\n",
                        "  instead of a name – that is still a call if it is clearly *current*.\n",
                        "3. If the user requests any other weather metric (humidity, forecast,\n",
                        "  wind, UV index, historical dates, comparisons, multiple places,\n",
                        "  fictional or un-resolvable names, etc.) **do NOT** call — reply\n",
                        "  in plain text (“Sorry, …”).\n",
                        "4. Respond *solely* with a tool call when appropriate; otherwise reply in\n",
                        "   plain text (e.g., \"Sorry, I don't have data on that location.\").\n"
                    ]
                }
            ],
            "source": [
                "SYSTEM_PROMPT = textwrap.dedent(\n",
                "    \"\"\"\n",
                "    Your task is to decide whether to call the\n",
                "    function `get_weather` based on a user's message.\n",
                "    \n",
                "    Follow these rules **exactly**:\n",
                "\n",
                "    1. **Call `get_weather`** only when the user wants the *current* air\n",
                "      temperature for a single, real-world location that can be mapped to\n",
                "      a latitude/longitude.\n",
                "    2. The user may phrase it indirectly, use slang, or give coordinates\n",
                "      instead of a name – that is still a call if it is clearly *current*.\n",
                "    3. If the user requests any other weather metric (humidity, forecast,\n",
                "      wind, UV index, historical dates, comparisons, multiple places,\n",
                "      fictional or un-resolvable names, etc.) **do NOT** call — reply\n",
                "      in plain text (“Sorry, …”).\n",
                "    4. Respond *solely* with a tool call when appropriate; otherwise reply in\n",
                "       plain text (e.g., \"Sorry, I don't have data on that location.\").\n",
                "    \"\"\"\n",
                ").strip()\n",
                "\n",
                "print(SYSTEM_PROMPT)"
            ]
        },
        {
            "cell_type": "code",
            "execution_count": 200,
            "metadata": {},
            "outputs": [
                {
                    "name": "stdout",
                    "output_type": "stream",
                    "text": [
                        "User: I need the current temperature in Berlin.\n",
                        "Tool call: get_weather(latitude=52.5200, longitude=13.4050)\n",
                        "\n",
                        "User: What's the Celsius in Mumbai right now?\n",
                        "Tool call: get_weather(latitude=19.0760, longitude=72.8777)\n",
                        "\n",
                        "User: Could you tell me the weather in Hogwarts?\n",
                        "Assistant: (No tool call – fictional location)\n",
                        "\n",
                        "User: Weather update for Tokoyo, please.\n",
                        "Assistant: (No tool call – unclear/misspelled location)\n",
                        "\n",
                        "User: Temperature check for Cape Town, please.\n",
                        "Tool call: get_weather(latitude=-33.9249, longitude=18.4241)\n"
                    ]
                }
            ],
            "source": [
                "FEW_SHOT_EXAMPLES = textwrap.dedent(\n",
                "    \"\"\"\n",
                "    User: I need the current temperature in Berlin.\n",
                "    Tool call: get_weather(latitude=52.5200, longitude=13.4050)\n",
                "\n",
                "    User: What's the Celsius in Mumbai right now?\n",
                "    Tool call: get_weather(latitude=19.0760, longitude=72.8777)\n",
                "\n",
                "    User: Could you tell me the weather in Hogwarts?\n",
                "    Assistant: (No tool call – fictional location)\n",
                "\n",
                "    User: Weather update for Tokoyo, please.\n",
                "    Assistant: (No tool call – unclear/misspelled location)\n",
                "\n",
                "    User: Temperature check for Cape Town, please.\n",
                "    Tool call: get_weather(latitude=-33.9249, longitude=18.4241)\n",
                "    \"\"\"\n",
                ").strip()\n",
                "\n",
                "print(FEW_SHOT_EXAMPLES)"
            ]
        },
        {
            "cell_type": "code",
            "execution_count": 201,
            "metadata": {},
            "outputs": [],
            "source": [
                "def build_tool(embed_examples: bool) -> List[Dict]:\n",
                "    \"\"\"Return the `tools` argument for the Responses API.\"\"\"\n",
                "\n",
                "    desc = \"Get current temperature for provided coordinates in Celsius.\"\n",
                "    if embed_examples:\n",
                "        desc += \"\\n\\nFew‑shot examples:\\n\" + FEW_SHOT_EXAMPLES\n",
                "\n",
                "    return [\n",
                "        {\n",
                "            \"type\": \"function\",\n",
                "            \"name\": \"get_weather\",\n",
                "            \"description\": desc,\n",
                "            \"parameters\": {\n",
                "                \"type\": \"object\",\n",
                "                \"properties\": {\n",
                "                    \"latitude\": {\"type\": \"number\"},\n",
                "                    \"longitude\": {\"type\": \"number\"},\n",
                "                },\n",
                "                \"required\": [\"latitude\", \"longitude\"],\n",
                "                \"additionalProperties\": False,\n",
                "            },\n",
                "            \"strict\": True,\n",
                "        }\n",
                "    ]\n",
                "\n",
                "\n",
                "def build_messages(example: Example, include_fs_in_system: bool) -> List[Dict]:\n",
                "    sys_prompt = SYSTEM_PROMPT\n",
                "    if include_fs_in_system:\n",
                "        sys_prompt += \"\\n\\nFew‑shot examples:\\n\" + FEW_SHOT_EXAMPLES\n",
                "    return [{\"role\": \"system\", \"content\": sys_prompt}, *example.messages]"
            ]
        },
        {
            "cell_type": "markdown",
            "metadata": {},
            "source": [
                "## 3 · Helper Functions"
            ]
        },
        {
            "cell_type": "code",
            "execution_count": 202,
            "metadata": {},
            "outputs": [],
            "source": [
                "def extract_tool(resp) -> Tuple[bool, Dict | None]:\n",
                "    try:\n",
                "        tool_call = resp.output[0]\n",
                "        if tool_call.type != \"function_call\":\n",
                "            return False, None\n",
                "        args = json.loads(tool_call.arguments)\n",
                "        return True, args\n",
                "    except Exception:\n",
                "        return False, None\n",
                "\n",
                "\n",
                "def is_correct(example: Example, *, called: bool, args: Dict | None) -> bool:\n",
                "    if example.should_call:\n",
                "        if not called or args is None:\n",
                "            return False\n",
                "        dx = abs(args.get(\"latitude\", 1e9) - example.expected[\"latitude\"])\n",
                "        dy = abs(args.get(\"longitude\", 1e9) - example.expected[\"longitude\"])\n",
                "        return dx <= COORD_TOL_DEG and dy <= COORD_TOL_DEG\n",
                "    else:\n",
                "        return not called\n",
                "    \n",
                "def run_eval(dataset: Iterable[Example], *, examples_in_desc: bool, examples_in_sys: bool) -> pd.DataFrame:\n",
                "    \"\"\"Run the model on *dataset* and return a DataFrame with detailed results.\"\"\"\n",
                "\n",
                "    client = openai.OpenAI(api_key=os.getenv(\"OPENAI_API_KEY\"))\n",
                "    rows = []\n",
                "\n",
                "    for ex in dataset:\n",
                "        messages = build_messages(ex, include_fs_in_system=examples_in_sys)\n",
                "        tools = build_tool(embed_examples=examples_in_desc)\n",
                "\n",
                "        resp = client.responses.create(\n",
                "            model=MODEL,\n",
                "            input=messages,\n",
                "            tools=tools,\n",
                "            temperature=TEMPERATURE,\n",
                "        )\n",
                "\n",
                "        called, args = extract_tool(resp)\n",
                "        lat_pred = args.get(\"latitude\") if args else None\n",
                "        lon_pred = args.get(\"longitude\") if args else None\n",
                "\n",
                "        rows.append(\n",
                "            {\n",
                "                \"user_query\": ex.user,\n",
                "                \"response\": resp.output[0],\n",
                "                \"should_call\": ex.should_call,\n",
                "                \"called\": called,\n",
                "                \"lat_expected\": ex.expected.get(\"latitude\") if ex.expected else None,\n",
                "                \"lon_expected\": ex.expected.get(\"longitude\") if ex.expected else None,\n",
                "                \"lat_pred\": lat_pred,\n",
                "                \"lon_pred\": lon_pred,\n",
                "                \"correct\": is_correct(ex, called=called, args=args),\n",
                "            }\n",
                "        )\n",
                "\n",
                "    df = pd.DataFrame(rows)\n",
                "    accuracy = df[\"correct\"].mean() * 100\n",
                "    mode = \"DESC\" if examples_in_desc else \"SYS\"\n",
                "    print(f\"Accuracy ({mode} few‑shots): {accuracy:.2f}%\\n\")\n",
                "    return df"
            ]
        },
        {
            "cell_type": "markdown",
            "metadata": {},
            "source": [
                "## 4 · Run Tests – Few‑Shots in **Description**"
            ]
        },
        {
            "cell_type": "code",
            "execution_count": null,
            "metadata": {},
            "outputs": [],
            "source": [
                "result_df = run_eval(DATASET, examples_in_desc=True, examples_in_sys=False)"
            ]
        },
        {
            "cell_type": "code",
            "execution_count": 162,
            "metadata": {},
            "outputs": [
                {
                    "name": "stdout",
                    "output_type": "stream",
                    "text": [
                        "User Query:\n",
                        "Give me NYC temperature for *right now* in Fahrenheit.\n",
                        "\n",
                        "Should Call:\n",
                        "False\n",
                        "\n",
                        "Response:\n",
                        "ResponseFunctionToolCall(arguments='{\"latitude\":40.7128,\"longitude\":-74.006}', call_id='call_P6JhrUrbn5RXwPaUFqLAyTiw', name='get_weather', type='function_call', id='fc_680a8738b9988191a98c5d85f585b8d8095538ce284c73f4', status='completed')\n",
                        "\n",
                        "============================================================\n"
                    ]
                }
            ],
            "source": [
                "# View incorrect rows\n",
                "incorrect_rows = result_df[result_df[\"correct\"] == False][[\"user_query\", \"should_call\", \"response\"]]\n",
                "\n",
                "for idx, row in incorrect_rows.iterrows():\n",
                "    print(f\"User Query:\\n{row['user_query']}\\n\")\n",
                "    print(f\"Should Call:\\n{row['should_call']}\\n\")\n",
                "    print(f\"Response:\\n{row['response']}\\n\")\n",
                "    print(\"=\"*60)"
            ]
        },
        {
            "cell_type": "markdown",
            "metadata": {},
            "source": [
                "## 5 · Run Tests – Few‑Shots in **System Prompt**"
            ]
        },
        {
            "cell_type": "code",
            "execution_count": null,
            "metadata": {},
            "outputs": [
                {
                    "name": "stdout",
                    "output_type": "stream",
                    "text": [
                        "Accuracy (SYS few‑shots): 93.33%\n",
                        "\n"
                    ]
                }
            ],
            "source": [
                "result_sys_df = run_eval(DATASET, examples_in_desc=False, examples_in_sys=True)"
            ]
        },
        {
            "cell_type": "code",
            "execution_count": 164,
            "metadata": {},
            "outputs": [
                {
                    "data": {
                        "text/html": [
                            "<div>\n",
                            "<style scoped>\n",
                            "    .dataframe tbody tr th:only-of-type {\n",
                            "        vertical-align: middle;\n",
                            "    }\n",
                            "\n",
                            "    .dataframe tbody tr th {\n",
                            "        vertical-align: top;\n",
                            "    }\n",
                            "\n",
                            "    .dataframe thead th {\n",
                            "        text-align: right;\n",
                            "    }\n",
                            "</style>\n",
                            "<table border=\"1\" class=\"dataframe\">\n",
                            "  <thead>\n",
                            "    <tr style=\"text-align: right;\">\n",
                            "      <th></th>\n",
                            "      <th>user_query</th>\n",
                            "      <th>response</th>\n",
                            "      <th>should_call</th>\n",
                            "      <th>called</th>\n",
                            "      <th>lat_expected</th>\n",
                            "      <th>lon_expected</th>\n",
                            "      <th>lat_pred</th>\n",
                            "      <th>lon_pred</th>\n",
                            "      <th>correct</th>\n",
                            "    </tr>\n",
                            "  </thead>\n",
                            "  <tbody>\n",
                            "    <tr>\n",
                            "      <th>0</th>\n",
                            "      <td>Paris check-in: how hot is it right now?</td>\n",
                            "      <td>ResponseFunctionToolCall(arguments='{\"latitude...</td>\n",
                            "      <td>True</td>\n",
                            "      <td>True</td>\n",
                            "      <td>48.8566</td>\n",
                            "      <td>2.3522</td>\n",
                            "      <td>48.8566</td>\n",
                            "      <td>2.3522</td>\n",
                            "      <td>True</td>\n",
                            "    </tr>\n",
                            "    <tr>\n",
                            "      <th>1</th>\n",
                            "      <td>Temp RN in NYC please 🙏</td>\n",
                            "      <td>ResponseFunctionToolCall(arguments='{\"latitude...</td>\n",
                            "      <td>True</td>\n",
                            "      <td>True</td>\n",
                            "      <td>40.7128</td>\n",
                            "      <td>-74.0060</td>\n",
                            "      <td>40.7128</td>\n",
                            "      <td>-74.0060</td>\n",
                            "      <td>True</td>\n",
                            "    </tr>\n",
                            "    <tr>\n",
                            "      <th>2</th>\n",
                            "      <td>Give me today's Celsius for Tōkyō (present mom...</td>\n",
                            "      <td>ResponseFunctionToolCall(arguments='{\"latitude...</td>\n",
                            "      <td>True</td>\n",
                            "      <td>True</td>\n",
                            "      <td>35.6895</td>\n",
                            "      <td>139.6917</td>\n",
                            "      <td>35.6895</td>\n",
                            "      <td>139.6917</td>\n",
                            "      <td>True</td>\n",
                            "    </tr>\n",
                            "    <tr>\n",
                            "      <th>3</th>\n",
                            "      <td>Current °C at -33.87, 151.21 ?</td>\n",
                            "      <td>ResponseFunctionToolCall(arguments='{\"latitude...</td>\n",
                            "      <td>True</td>\n",
                            "      <td>True</td>\n",
                            "      <td>-33.8700</td>\n",
                            "      <td>151.2100</td>\n",
                            "      <td>-33.8700</td>\n",
                            "      <td>151.2100</td>\n",
                            "      <td>True</td>\n",
                            "    </tr>\n",
                            "    <tr>\n",
                            "      <th>4</th>\n",
                            "      <td>What's the thermometer reading downtown São Pa...</td>\n",
                            "      <td>ResponseFunctionToolCall(arguments='{\"latitude...</td>\n",
                            "      <td>True</td>\n",
                            "      <td>True</td>\n",
                            "      <td>-23.5505</td>\n",
                            "      <td>-46.6333</td>\n",
                            "      <td>-23.5505</td>\n",
                            "      <td>-46.6333</td>\n",
                            "      <td>True</td>\n",
                            "    </tr>\n",
                            "  </tbody>\n",
                            "</table>\n",
                            "</div>"
                        ],
                        "text/plain": [
                            "                                          user_query  \\\n",
                            "0           Paris check-in: how hot is it right now?   \n",
                            "1                            Temp RN in NYC please 🙏   \n",
                            "2  Give me today's Celsius for Tōkyō (present mom...   \n",
                            "3                     Current °C at -33.87, 151.21 ?   \n",
                            "4  What's the thermometer reading downtown São Pa...   \n",
                            "\n",
                            "                                            response  should_call  called  \\\n",
                            "0  ResponseFunctionToolCall(arguments='{\"latitude...         True    True   \n",
                            "1  ResponseFunctionToolCall(arguments='{\"latitude...         True    True   \n",
                            "2  ResponseFunctionToolCall(arguments='{\"latitude...         True    True   \n",
                            "3  ResponseFunctionToolCall(arguments='{\"latitude...         True    True   \n",
                            "4  ResponseFunctionToolCall(arguments='{\"latitude...         True    True   \n",
                            "\n",
                            "   lat_expected  lon_expected  lat_pred  lon_pred  correct  \n",
                            "0       48.8566        2.3522   48.8566    2.3522     True  \n",
                            "1       40.7128      -74.0060   40.7128  -74.0060     True  \n",
                            "2       35.6895      139.6917   35.6895  139.6917     True  \n",
                            "3      -33.8700      151.2100  -33.8700  151.2100     True  \n",
                            "4      -23.5505      -46.6333  -23.5505  -46.6333     True  "
                        ]
                    },
                    "execution_count": 164,
                    "metadata": {},
                    "output_type": "execute_result"
                }
            ],
            "source": [
                "result_sys_df.head()"
            ]
        },
        {
            "cell_type": "code",
            "execution_count": 165,
            "metadata": {},
            "outputs": [
                {
                    "name": "stdout",
                    "output_type": "stream",
                    "text": [
                        "User Query:\n",
                        "What's the temperature in San Fran-sissco today?\n",
                        "\n",
                        "Response:\n",
                        "ResponseFunctionToolCall(arguments='{\"latitude\":37.7749,\"longitude\":-122.4194}', call_id='call_J4dGxTnrDTC5flECybMpyO7k', name='get_weather', type='function_call', id='fc_680a88031f0c8191a060ec0eee01ba740e99c6365f769b15', status='completed')\n",
                        "\n",
                        "============================================================\n",
                        "User Query:\n",
                        "Give me NYC temperature for *right now* in Fahrenheit.\n",
                        "\n",
                        "Response:\n",
                        "ResponseFunctionToolCall(arguments='{\"latitude\":40.7128,\"longitude\":-74.006}', call_id='call_50TrRSbIsEyi4xQyABAma9jr', name='get_weather', type='function_call', id='fc_680a881143b88191938ec4ca26b49e5607e0feea166a5583', status='completed')\n",
                        "\n",
                        "============================================================\n"
                    ]
                }
            ],
            "source": [
                "# Assuming your DataFrame is named result_df\n",
                "incorrect_rows = result_sys_df[result_sys_df[\"correct\"] == False][[\"user_query\", \"response\"]]\n",
                "\n",
                "for idx, row in incorrect_rows.iterrows():\n",
                "    print(f\"User Query:\\n{row['user_query']}\\n\")\n",
                "    print(f\"Response:\\n{row['response']}\\n\")\n",
                "    print(\"=\"*60)"
            ]
        }
    ],
    "metadata": {
        "kernelspec": {
            "display_name": "openai",
            "language": "python",
            "name": "python3"
        },
        "language_info": {
            "codemirror_mode": {
                "name": "ipython",
                "version": 3
            },
            "file_extension": ".py",
            "mimetype": "text/x-python",
            "name": "python",
            "nbconvert_exporter": "python",
            "pygments_lexer": "ipython3",
            "version": "3.11.8"
        }
    },
    "nbformat": 4,
    "nbformat_minor": 2
}
